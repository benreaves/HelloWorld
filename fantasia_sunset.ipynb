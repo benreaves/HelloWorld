{
  "nbformat": 4,
  "nbformat_minor": 0,
  "metadata": {
    "colab": {
      "provenance": [],
      "authorship_tag": "ABX9TyN1vOi+YspIqKXzRNQSkwo9",
      "include_colab_link": true
    },
    "kernelspec": {
      "name": "python3",
      "display_name": "Python 3"
    },
    "language_info": {
      "name": "python"
    }
  },
  "cells": [
    {
      "cell_type": "markdown",
      "metadata": {
        "id": "view-in-github",
        "colab_type": "text"
      },
      "source": [
        "<a href=\"https://colab.research.google.com/github/benreaves/fantasia-sunset/blob/master/fantasia_sunset.ipynb\" target=\"_parent\"><img src=\"https://colab.research.google.com/assets/colab-badge.svg\" alt=\"Open In Colab\"/></a>"
      ]
    },
    {
      "cell_type": "code",
      "execution_count": null,
      "metadata": {
        "colab": {
          "base_uri": "https://localhost:8080/"
        },
        "id": "LfzoDsVWzNcR",
        "outputId": "2dbfd2d6-4c02-458d-cd83-cc8c078af470"
      },
      "outputs": [
        {
          "output_type": "execute_result",
          "data": {
            "text/plain": [
              "(0.12948710550987938, 0.2824102795735398)"
            ]
          },
          "metadata": {},
          "execution_count": 25
        }
      ],
      "source": [
        "import math\n",
        "def hl(elevation=7.11,azimuth=285.39):\n",
        "  \"\"\" elevation is in degrees, azimuth measured CW from N\n",
        "  location is -122.01597, 37.335986\n",
        "  from https://gml.noaa.gov/grad/solcalc/\n",
        "  returns H/L the ratio of the height of parking structure wall\n",
        "  to the length from the westernmost pole of Fantasia patio\n",
        "  to the base of the parking structure wall,\n",
        "  assuming the wall is constant height and runs due north/south.\n",
        "  TODO: make the input a time-of-day if el and az are not given.\n",
        "  In that case get el and az from pyephem.\n",
        "  My guess is that H is around 10ft and L is around 30ft\n",
        "  \n",
        "  \"\"\"\n",
        "  # radians\n",
        "  el = elevation*math.pi/180; az=azimuth*math.pi/180\n",
        "  return math.tan(el) / math.sin(3.14*2 - az)\n",
        "\n",
        "hl(7.11, 285.39),hl(15.16,286.2)\n",
        "# not getting results I like! the second one should be lower"
      ]
    },
    {
      "cell_type": "markdown",
      "source": [
        "# When will the shadow cross a table at Fantasia?\n",
        "It crosses when\n",
        "tan(e) = (H/L)*sin(d)\n",
        "\n",
        "where H is the height of the wall, and L is the distance to the pole.\n",
        "https://photos.app.goo.gl/bjDWVQVTZN7GshD29\n",
        "\n",
        "So we need to know H/L. Easier: take a photo to measure one set of d&e that work. I have several (see \"Fantasia Shadow\"). I can get az&el from  https://gml.noaa.gov/grad/solcalc/\n",
        "\n",
        "location is -122.01597, 37.335986\n",
        "\n",
        "Sunset behind the parking structure is at 20220806T1929-0700. Shadow crossing the pole is 20220712T1903-0700. This is easier to see, but the former is more useful in the hot summer\n",
        "\n",
        "From https://gml.noaa.gov/grad/solcalc/\n",
        "The first one yields az=285.39 degrees, el=7.11. The second one: az=286.2, el=15.16 this is more measureable. el is e, but az is measured CW from N, whereas d is measured CCW from N. So, 360=az+d\n",
        "\n",
        "\n",
        "we have az and d, want H/L.\n",
        "H/L = tan(e)/sin(d)\n",
        "H/L = tan(el) / sin(360-az)\n",
        "= 0.12933\n",
        "\n",
        "How about the second one? I expect H to be lower because I'm sitting instead of on the floor. If I were standing as tall as the wall, el would be 0\n",
        "\n",
        "\n"
      ],
      "metadata": {
        "id": "WxK3LxEzzUQD"
      }
    },
    {
      "cell_type": "markdown",
      "source": [],
      "metadata": {
        "id": "6xbizak7zRdv"
      }
    },
    {
      "cell_type": "code",
      "source": [
        "!pip install Skyfield pynverse"
      ],
      "metadata": {
        "id": "ElqyAKgdCmzP",
        "outputId": "073a7781-f5b9-4050-9bf6-bcc9005c78f7",
        "colab": {
          "base_uri": "https://localhost:8080/"
        }
      },
      "execution_count": null,
      "outputs": [
        {
          "output_type": "stream",
          "name": "stdout",
          "text": [
            "Looking in indexes: https://pypi.org/simple, https://us-python.pkg.dev/colab-wheels/public/simple/\n",
            "Requirement already satisfied: Skyfield in /usr/local/lib/python3.10/dist-packages (1.46)\n",
            "Collecting pynverse\n",
            "  Downloading pynverse-0.1.4.4.tar.gz (8.7 kB)\n",
            "  Preparing metadata (setup.py) ... \u001b[?25l\u001b[?25hdone\n",
            "Requirement already satisfied: numpy in /usr/local/lib/python3.10/dist-packages (from Skyfield) (1.22.4)\n",
            "Requirement already satisfied: sgp4>=2.2 in /usr/local/lib/python3.10/dist-packages (from Skyfield) (2.22)\n",
            "Requirement already satisfied: certifi>=2017.4.17 in /usr/local/lib/python3.10/dist-packages (from Skyfield) (2022.12.7)\n",
            "Requirement already satisfied: jplephem>=2.13 in /usr/local/lib/python3.10/dist-packages (from Skyfield) (2.18)\n",
            "Requirement already satisfied: scipy>=0.11 in /usr/local/lib/python3.10/dist-packages (from pynverse) (1.10.1)\n",
            "Building wheels for collected packages: pynverse\n",
            "  Building wheel for pynverse (setup.py) ... \u001b[?25l\u001b[?25hdone\n",
            "  Created wheel for pynverse: filename=pynverse-0.1.4.4-py3-none-any.whl size=6363 sha256=9b35d68f4438791282e88f98ad5527b1229e68dda5a5d02d26b0fdb8e4568447\n",
            "  Stored in directory: /root/.cache/pip/wheels/42/d4/98/c957a0dc68d88ace74b11435dae2b4fa55bfb1342a4e6b551b\n",
            "Successfully built pynverse\n",
            "Installing collected packages: pynverse\n",
            "Successfully installed pynverse-0.1.4.4\n"
          ]
        }
      ]
    },
    {
      "cell_type": "code",
      "source": [],
      "metadata": {
        "id": "uRQjqw6X1CNj"
      },
      "execution_count": null,
      "outputs": []
    },
    {
      "cell_type": "code",
      "source": [
        "from skyfield.api import N,S,E,W, wgs84, load\n",
        "import datetime, pytz, numpy\n",
        "\n",
        "def azel(dt=None, HL=hl(), ):\n",
        "  if not dt:\n",
        "    dt = datetime.datetime(dtn.year,dtn.month,dtn.day,12,0,0,0,pytz.timezone('America/Los_Angeles'))\n",
        "  ts = load.timescale()\n",
        "  t = ts.from_datetime(dt)\n",
        "  ephem = load('de421.bsp')\n",
        "  sun = ephem['sun']\n",
        "  earth = ephem['earth']\n",
        "\n",
        "  # https://rhodesmill.org/pyephem/quick.html\n",
        "  # https://rhodesmill.org/skyfield/positions.html\n",
        "\n",
        "  fantasia = earth + wgs84.latlon(37.335986 * N, 122.01597 * W, elevation_m=30)\n",
        "\n",
        "  #astro = fantasia.at(t).observe(sun).apparent().altaz()\n",
        "  #app = astro.apparent()\n",
        "\n",
        "  alt, az, distance = fantasia.at(t).observe(sun).apparent().altaz()\n",
        "  return az.radians, alt.radians\n",
        "  # return alt.dstr(), az.dstr()\n",
        "\n",
        "def f(minutes):\n",
        "  \"\"\" we want to minimize this function.\n",
        "  minutes is the number of minutes past 5pm on 2023 april 29, no, today!\n",
        "  Sometimes minutes is an numpy.ndarray. why?\n",
        "  \"\"\"\n",
        "  print(\"minutes\", minutes, type(minutes))\n",
        "  if isinstance(minutes, numpy.ndarray):\n",
        "    minutes = minutes[0]\n",
        "  print(\"minutes\", minutes)\n",
        "  dtn = datetime.datetime.now()\n",
        "  dt5pm = datetime.datetime(dtn.year,dtn.month,dtn.day,17,0,0,0,\n",
        "                            pytz.timezone('America/Los_Angeles'))\n",
        "  dt = dt5pm + datetime.timedelta(minutes=minutes)\n",
        "  az, el = azel(dt)\n",
        "  #print(az,el)\n",
        "  HL = 0.12948710550987938 # hl()\n",
        "  cost = HL * math.sin(az) - math.tan(el)\n",
        "  return cost\n"
      ],
      "metadata": {
        "id": "YHD_Cvw91PG3"
      },
      "execution_count": 44,
      "outputs": []
    },
    {
      "cell_type": "code",
      "source": [
        "from pynverse import inversefunc\n",
        "import numpy\n",
        "#f(0), f(1), f(2), f(10), f(100)\n",
        "x = inversefunc(f, y_values=0, domain=[0,4*60])\n",
        "print(x, \"minutes after 5pm\")\n",
        "x = float(x)\n",
        "dtn = datetime.datetime.now()\n",
        "dt5 = datetime.datetime(dtn.year,dtn.month,dtn.day,17,0,0,0,\n",
        "                            pytz.timezone('America/Los_Angeles'))\n",
        "dtshadow = dt5 + datetime.timedelta(minutes=x)\n",
        "print(dtshadow)"
      ],
      "metadata": {
        "colab": {
          "base_uri": "https://localhost:8080/"
        },
        "id": "gOfHJeV1S45K",
        "outputId": "44434bce-278d-453e-c5ef-f1bb58373d81"
      },
      "execution_count": 50,
      "outputs": [
        {
          "output_type": "stream",
          "name": "stdout",
          "text": [
            "minutes 180.0 <class 'float'>\n",
            "minutes 180.0\n",
            "minutes 60.0 <class 'float'>\n",
            "minutes 60.0\n",
            "minutes 0.0 <class 'float'>\n",
            "minutes 0.0\n",
            "minutes 240.0 <class 'float'>\n",
            "minutes 240.0\n",
            "minutes 240.0 <class 'float'>\n",
            "minutes 240.0\n",
            "minutes 0.0 <class 'float'>\n",
            "minutes 0.0\n",
            "minutes 60.0 <class 'float'>\n",
            "minutes 60.0\n",
            "minutes 180.0 <class 'float'>\n",
            "minutes 180.0\n",
            "minutes 134.16408 <class 'float'>\n",
            "minutes 134.16408\n",
            "minutes 105.83592301872001 <class 'float'>\n",
            "minutes 105.83592301872001\n",
            "minutes 155.7730818582702 <class 'numpy.float64'>\n",
            "minutes 155.7730818582702\n",
            "minutes 155.75090825269982 <class 'numpy.float64'>\n",
            "minutes 155.75090825269982\n",
            "minutes 155.71005871028757 <class 'numpy.float64'>\n",
            "minutes 155.71005871028757\n",
            "minutes 155.70980156637555 <class 'numpy.float64'>\n",
            "minutes 155.70980156637555\n",
            "minutes 155.7098038708906 <class 'numpy.float64'>\n",
            "minutes 155.7098038708906\n",
            "minutes 155.7097992618605 <class 'numpy.float64'>\n",
            "minutes 155.7097992618605\n",
            "minutes [155.70980157] <class 'numpy.ndarray'>\n",
            "minutes 155.70980156637555\n",
            "155.70980156637555 minutes after 5pm\n",
            "2023-04-30 19:35:42.588094-07:53\n"
          ]
        }
      ]
    },
    {
      "cell_type": "code",
      "source": [
        "import datetime, pytz\n",
        "dtn = datetime.datetime.now()\n",
        "dt = datetime.datetime(dtn.year,dtn.month,dtn.day,11,21,0,0,pytz.timezone('America/Los_Angeles'))\n",
        "dt"
      ],
      "metadata": {
        "colab": {
          "base_uri": "https://localhost:8080/"
        },
        "id": "gplVztHBRMWA",
        "outputId": "732df881-d79f-439b-d291-0a736932c946"
      },
      "execution_count": 45,
      "outputs": [
        {
          "output_type": "execute_result",
          "data": {
            "text/plain": [
              "datetime.datetime(2023, 4, 30, 11, 21, tzinfo=<DstTzInfo 'America/Los_Angeles' LMT-1 day, 16:07:00 STD>)"
            ]
          },
          "metadata": {},
          "execution_count": 45
        }
      ]
    }
  ]
}