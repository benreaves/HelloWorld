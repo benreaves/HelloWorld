{
  "nbformat": 4,
  "nbformat_minor": 0,
  "metadata": {
    "colab": {
      "provenance": [],
      "authorship_tag": "ABX9TyMtkSke6gQbHq3/DhhPvu+r",
      "include_colab_link": true
    },
    "kernelspec": {
      "name": "python3",
      "display_name": "Python 3"
    },
    "language_info": {
      "name": "python"
    }
  },
  "cells": [
    {
      "cell_type": "markdown",
      "metadata": {
        "id": "view-in-github",
        "colab_type": "text"
      },
      "source": [
        "<a href=\"https://colab.research.google.com/github/benreaves/HelloWorld/blob/master/Copy_of_Copy_of_fantasia_sunset.ipynb\" target=\"_parent\"><img src=\"https://colab.research.google.com/assets/colab-badge.svg\" alt=\"Open In Colab\"/></a>"
      ]
    },
    {
      "cell_type": "code",
      "execution_count": null,
      "metadata": {
        "colab": {
          "base_uri": "https://localhost:8080/"
        },
        "id": "LfzoDsVWzNcR",
        "outputId": "d53fc6ab-a617-4efe-8453-6c8c5d573ae9"
      },
      "outputs": [
        {
          "output_type": "execute_result",
          "data": {
            "text/plain": [
              "(0.12948710550987938, 0.2824102795735398, 0.17647058823529413)"
            ]
          },
          "metadata": {},
          "execution_count": 1
        }
      ],
      "source": [
        "import math\n",
        "def hl(elevation=7.11,azimuth=285.39):\n",
        "  \"\"\" elevation is in degrees, azimuth measured CW from N\n",
        "  location is -122.01597, 37.335986\n",
        "  from https://gml.noaa.gov/grad/solcalc/\n",
        "  \"\"\"\n",
        "  # radians\n",
        "  el = elevation*math.pi/180; az=azimuth*math.pi/180\n",
        "  return math.tan(el) / math.sin(3.14*2 - az)\n",
        "\n",
        "hl(7.11, 285.39),hl(15.16,286.2), 3/17\n",
        "# not getting results I like! the second one should be lower"
      ]
    },
    {
      "cell_type": "markdown",
      "source": [
        "# When will the shadow cross a table at Fantasia?\n",
        "It crosses when\n",
        "tan(e) = (H/L)*sin(d)\n",
        "\n",
        "where H is the height of the wall, and L is the distance to the pole.\n",
        "https://photos.app.goo.gl/bjDWVQVTZN7GshD29\n",
        "\n",
        "So we need to know H/L. Easier: take a photo to measure one set of d&e that work. I have several (see \"Fantasia Shadow\"). I can get az&el from  https://gml.noaa.gov/grad/solcalc/\n",
        "\n",
        "location is -122.01597, 37.335986\n",
        "\n",
        "Sunset behind the parking structure is at 20220806T1929-0700. Shadow crossing the pole is 20220712T1903-0700. This is easier to see, but the former is more useful in the hot summer\n",
        "\n",
        "From https://gml.noaa.gov/grad/solcalc/\n",
        "The first one yields az=285.39 degrees, el=7.11. The second one: az=286.2, el=15.16 this is more measureable. el is e, but az is measured CW from N, whereas d is measured CCW from N. So, 360=az+d\n",
        "\n",
        "\n",
        "we have az and d, want H/L.\n",
        "H/L = tan(e)/sin(d)\n",
        "H/L = tan(el) / sin(360-az)\n",
        "= 0.12933\n",
        "\n",
        "How about the second one? I expect H to be lower because I'm sitting instead of on the floor. If I were standing as tall as the wall, el would be 0\n",
        "\n",
        "Instead of using noaa's table I want to use an API to get the az/el\n",
        "\n"
      ],
      "metadata": {
        "id": "WxK3LxEzzUQD"
      }
    },
    {
      "cell_type": "markdown",
      "source": [],
      "metadata": {
        "id": "6xbizak7zRdv"
      }
    },
    {
      "cell_type": "code",
      "source": [
        "!pip install pysolar"
      ],
      "metadata": {
        "id": "ElqyAKgdCmzP",
        "outputId": "a469a4ad-faea-4b73-99b0-96e8094d10b6",
        "colab": {
          "base_uri": "https://localhost:8080/"
        }
      },
      "execution_count": 2,
      "outputs": [
        {
          "output_type": "stream",
          "name": "stdout",
          "text": [
            "Looking in indexes: https://pypi.org/simple, https://us-python.pkg.dev/colab-wheels/public/simple/\n",
            "Collecting pysolar\n",
            "  Downloading pysolar-0.10-py3-none-any.whl (47 kB)\n",
            "\u001b[K     |████████████████████████████████| 47 kB 1.3 MB/s \n",
            "\u001b[?25hInstalling collected packages: pysolar\n",
            "Successfully installed pysolar-0.10\n"
          ]
        }
      ]
    },
    {
      "cell_type": "code",
      "source": [
        "import pysolar, datetime\n",
        "lat = 42.206\n",
        "lon = -71.382\n",
        "month=datetime.datetime.now().month\n",
        "day=datetime.datetime.now().day\n",
        "# convert\n",
        "date = datetime.datetime(2022,month,day,15,0,0, tzinfo=datetime.timezone.utc)\n",
        "el = pysolar.solar.get_altitude(lat, lon, date)\n",
        "az = pysolar.solar.get_azimuth(lat,lon,date)\n",
        "# iterate to get the crossing time\n",
        "el, az"
      ],
      "metadata": {
        "colab": {
          "base_uri": "https://localhost:8080/"
        },
        "id": "ntCd1AiqzaEy",
        "outputId": "8e56116f-e751-4b20-f9eb-40b152f3c6a5"
      },
      "execution_count": 3,
      "outputs": [
        {
          "output_type": "stream",
          "name": "stderr",
          "text": [
            "/usr/local/lib/python3.8/dist-packages/pysolar/solartime.py:111: UserWarning: I don't know about leap seconds after 2021\n",
            "  warnings.warn \\\n"
          ]
        },
        {
          "output_type": "execute_result",
          "data": {
            "text/plain": [
              "(20.935714180654468, 155.70639514858624)"
            ]
          },
          "metadata": {},
          "execution_count": 3
        }
      ]
    }
  ]
}